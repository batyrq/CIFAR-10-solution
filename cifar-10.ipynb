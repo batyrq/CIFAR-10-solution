{
 "cells": [
  {
   "cell_type": "code",
   "execution_count": 1,
   "id": "c4f59e41",
   "metadata": {
    "execution": {
     "iopub.execute_input": "2025-06-24T14:45:18.761758Z",
     "iopub.status.busy": "2025-06-24T14:45:18.761436Z",
     "iopub.status.idle": "2025-06-24T14:45:24.789865Z",
     "shell.execute_reply": "2025-06-24T14:45:24.789154Z"
    },
    "papermill": {
     "duration": 6.038,
     "end_time": "2025-06-24T14:45:24.791187",
     "exception": false,
     "start_time": "2025-06-24T14:45:18.753187",
     "status": "completed"
    },
    "tags": []
   },
   "outputs": [
    {
     "name": "stdout",
     "output_type": "stream",
     "text": [
      "Collecting py7zr\r\n",
      "  Downloading py7zr-1.0.0-py3-none-any.whl.metadata (17 kB)\r\n",
      "Requirement already satisfied: texttable in /usr/local/lib/python3.11/dist-packages (from py7zr) (1.7.0)\r\n",
      "Requirement already satisfied: pycryptodomex>=3.20.0 in /usr/local/lib/python3.11/dist-packages (from py7zr) (3.22.0)\r\n",
      "Collecting brotli>=1.1.0 (from py7zr)\r\n",
      "  Downloading Brotli-1.1.0-cp311-cp311-manylinux_2_17_x86_64.manylinux2014_x86_64.whl.metadata (5.5 kB)\r\n",
      "Requirement already satisfied: psutil in /usr/local/lib/python3.11/dist-packages (from py7zr) (7.0.0)\r\n",
      "Collecting pyzstd>=0.16.1 (from py7zr)\r\n",
      "  Downloading pyzstd-0.17.0-cp311-cp311-manylinux_2_17_x86_64.manylinux2014_x86_64.whl.metadata (2.5 kB)\r\n",
      "Collecting pyppmd<1.3.0,>=1.1.0 (from py7zr)\r\n",
      "  Downloading pyppmd-1.2.0-cp311-cp311-manylinux_2_17_x86_64.manylinux2014_x86_64.whl.metadata (5.4 kB)\r\n",
      "Collecting pybcj<1.1.0,>=1.0.0 (from py7zr)\r\n",
      "  Downloading pybcj-1.0.6-cp311-cp311-manylinux_2_17_x86_64.manylinux2014_x86_64.whl.metadata (3.7 kB)\r\n",
      "Collecting multivolumefile>=0.2.3 (from py7zr)\r\n",
      "  Downloading multivolumefile-0.2.3-py3-none-any.whl.metadata (6.3 kB)\r\n",
      "Collecting inflate64<1.1.0,>=1.0.0 (from py7zr)\r\n",
      "  Downloading inflate64-1.0.3-cp311-cp311-manylinux_2_17_x86_64.manylinux2014_x86_64.whl.metadata (4.4 kB)\r\n",
      "Requirement already satisfied: typing-extensions>=4.13.2 in /usr/local/lib/python3.11/dist-packages (from pyzstd>=0.16.1->py7zr) (4.13.2)\r\n",
      "Downloading py7zr-1.0.0-py3-none-any.whl (69 kB)\r\n",
      "\u001b[2K   \u001b[90m━━━━━━━━━━━━━━━━━━━━━━━━━━━━━━━━━━━━━━━━\u001b[0m \u001b[32m69.7/69.7 kB\u001b[0m \u001b[31m2.3 MB/s\u001b[0m eta \u001b[36m0:00:00\u001b[0m\r\n",
      "\u001b[?25hDownloading Brotli-1.1.0-cp311-cp311-manylinux_2_17_x86_64.manylinux2014_x86_64.whl (2.9 MB)\r\n",
      "\u001b[2K   \u001b[90m━━━━━━━━━━━━━━━━━━━━━━━━━━━━━━━━━━━━━━━━\u001b[0m \u001b[32m2.9/2.9 MB\u001b[0m \u001b[31m43.5 MB/s\u001b[0m eta \u001b[36m0:00:00\u001b[0m\r\n",
      "\u001b[?25hDownloading inflate64-1.0.3-cp311-cp311-manylinux_2_17_x86_64.manylinux2014_x86_64.whl (96 kB)\r\n",
      "\u001b[2K   \u001b[90m━━━━━━━━━━━━━━━━━━━━━━━━━━━━━━━━━━━━━━━━\u001b[0m \u001b[32m96.4/96.4 kB\u001b[0m \u001b[31m5.6 MB/s\u001b[0m eta \u001b[36m0:00:00\u001b[0m\r\n",
      "\u001b[?25hDownloading multivolumefile-0.2.3-py3-none-any.whl (17 kB)\r\n",
      "Downloading pybcj-1.0.6-cp311-cp311-manylinux_2_17_x86_64.manylinux2014_x86_64.whl (50 kB)\r\n",
      "\u001b[2K   \u001b[90m━━━━━━━━━━━━━━━━━━━━━━━━━━━━━━━━━━━━━━━━\u001b[0m \u001b[32m50.7/50.7 kB\u001b[0m \u001b[31m2.4 MB/s\u001b[0m eta \u001b[36m0:00:00\u001b[0m\r\n",
      "\u001b[?25hDownloading pyppmd-1.2.0-cp311-cp311-manylinux_2_17_x86_64.manylinux2014_x86_64.whl (141 kB)\r\n",
      "\u001b[2K   \u001b[90m━━━━━━━━━━━━━━━━━━━━━━━━━━━━━━━━━━━━━━━━\u001b[0m \u001b[32m141.3/141.3 kB\u001b[0m \u001b[31m7.3 MB/s\u001b[0m eta \u001b[36m0:00:00\u001b[0m\r\n",
      "\u001b[?25hDownloading pyzstd-0.17.0-cp311-cp311-manylinux_2_17_x86_64.manylinux2014_x86_64.whl (412 kB)\r\n",
      "\u001b[2K   \u001b[90m━━━━━━━━━━━━━━━━━━━━━━━━━━━━━━━━━━━━━━━━\u001b[0m \u001b[32m412.9/412.9 kB\u001b[0m \u001b[31m25.9 MB/s\u001b[0m eta \u001b[36m0:00:00\u001b[0m\r\n",
      "\u001b[?25hInstalling collected packages: brotli, pyzstd, pyppmd, pybcj, multivolumefile, inflate64, py7zr\r\n",
      "Successfully installed brotli-1.1.0 inflate64-1.0.3 multivolumefile-0.2.3 py7zr-1.0.0 pybcj-1.0.6 pyppmd-1.2.0 pyzstd-0.17.0\r\n"
     ]
    }
   ],
   "source": [
    "!pip install py7zr"
   ]
  },
  {
   "cell_type": "code",
   "execution_count": 2,
   "id": "9832f41f",
   "metadata": {
    "execution": {
     "iopub.execute_input": "2025-06-24T14:45:24.800029Z",
     "iopub.status.busy": "2025-06-24T14:45:24.799764Z",
     "iopub.status.idle": "2025-06-24T14:45:44.413446Z",
     "shell.execute_reply": "2025-06-24T14:45:44.412600Z"
    },
    "papermill": {
     "duration": 19.619389,
     "end_time": "2025-06-24T14:45:44.414694",
     "exception": false,
     "start_time": "2025-06-24T14:45:24.795305",
     "status": "completed"
    },
    "tags": []
   },
   "outputs": [
    {
     "name": "stdout",
     "output_type": "stream",
     "text": [
      "Архив распакован в /kaggle/working/\n"
     ]
    }
   ],
   "source": [
    "import py7zr\n",
    "\n",
    "# Путь к архиву\n",
    "archive_path = '/kaggle/input/cifar-10/train.7z'\n",
    "\n",
    "# Папка для распаковки\n",
    "extract_to = '/kaggle/working/'\n",
    "\n",
    "# Распаковка архива\n",
    "with py7zr.SevenZipFile(archive_path, mode='r') as z:\n",
    "    z.extractall(path=extract_to)\n",
    "\n",
    "print(f\"Архив распакован в {extract_to}\")\n"
   ]
  },
  {
   "cell_type": "code",
   "execution_count": 3,
   "id": "91a12f88",
   "metadata": {
    "execution": {
     "iopub.execute_input": "2025-06-24T14:45:44.423626Z",
     "iopub.status.busy": "2025-06-24T14:45:44.422843Z",
     "iopub.status.idle": "2025-06-24T14:47:41.377944Z",
     "shell.execute_reply": "2025-06-24T14:47:41.377182Z"
    },
    "papermill": {
     "duration": 116.96462,
     "end_time": "2025-06-24T14:47:41.383186",
     "exception": false,
     "start_time": "2025-06-24T14:45:44.418566",
     "status": "completed"
    },
    "tags": []
   },
   "outputs": [
    {
     "name": "stdout",
     "output_type": "stream",
     "text": [
      "Архив распакован в /kaggle/working/\n"
     ]
    }
   ],
   "source": [
    "import py7zr\n",
    "\n",
    "# Путь к архиву\n",
    "archive_path = '/kaggle/input/cifar-10/test.7z'\n",
    "\n",
    "# Папка для распаковки\n",
    "extract_to = '/kaggle/working/'\n",
    "\n",
    "# Распаковка архива\n",
    "with py7zr.SevenZipFile(archive_path, mode='r') as z:\n",
    "    z.extractall(path=extract_to)\n",
    "\n",
    "print(f\"Архив распакован в {extract_to}\")"
   ]
  },
  {
   "cell_type": "code",
   "execution_count": 4,
   "id": "e1610235",
   "metadata": {
    "execution": {
     "iopub.execute_input": "2025-06-24T14:47:41.391581Z",
     "iopub.status.busy": "2025-06-24T14:47:41.391053Z",
     "iopub.status.idle": "2025-06-24T14:47:42.957224Z",
     "shell.execute_reply": "2025-06-24T14:47:42.956528Z"
    },
    "papermill": {
     "duration": 1.571549,
     "end_time": "2025-06-24T14:47:42.958441",
     "exception": false,
     "start_time": "2025-06-24T14:47:41.386892",
     "status": "completed"
    },
    "tags": []
   },
   "outputs": [
    {
     "data": {
      "text/html": [
       "<div>\n",
       "<style scoped>\n",
       "    .dataframe tbody tr th:only-of-type {\n",
       "        vertical-align: middle;\n",
       "    }\n",
       "\n",
       "    .dataframe tbody tr th {\n",
       "        vertical-align: top;\n",
       "    }\n",
       "\n",
       "    .dataframe thead th {\n",
       "        text-align: right;\n",
       "    }\n",
       "</style>\n",
       "<table border=\"1\" class=\"dataframe\">\n",
       "  <thead>\n",
       "    <tr style=\"text-align: right;\">\n",
       "      <th></th>\n",
       "      <th>id</th>\n",
       "      <th>label</th>\n",
       "    </tr>\n",
       "  </thead>\n",
       "  <tbody>\n",
       "    <tr>\n",
       "      <th>0</th>\n",
       "      <td>1</td>\n",
       "      <td>frog</td>\n",
       "    </tr>\n",
       "    <tr>\n",
       "      <th>1</th>\n",
       "      <td>2</td>\n",
       "      <td>truck</td>\n",
       "    </tr>\n",
       "    <tr>\n",
       "      <th>2</th>\n",
       "      <td>3</td>\n",
       "      <td>truck</td>\n",
       "    </tr>\n",
       "    <tr>\n",
       "      <th>3</th>\n",
       "      <td>4</td>\n",
       "      <td>deer</td>\n",
       "    </tr>\n",
       "    <tr>\n",
       "      <th>4</th>\n",
       "      <td>5</td>\n",
       "      <td>automobile</td>\n",
       "    </tr>\n",
       "    <tr>\n",
       "      <th>...</th>\n",
       "      <td>...</td>\n",
       "      <td>...</td>\n",
       "    </tr>\n",
       "    <tr>\n",
       "      <th>49995</th>\n",
       "      <td>49996</td>\n",
       "      <td>bird</td>\n",
       "    </tr>\n",
       "    <tr>\n",
       "      <th>49996</th>\n",
       "      <td>49997</td>\n",
       "      <td>frog</td>\n",
       "    </tr>\n",
       "    <tr>\n",
       "      <th>49997</th>\n",
       "      <td>49998</td>\n",
       "      <td>truck</td>\n",
       "    </tr>\n",
       "    <tr>\n",
       "      <th>49998</th>\n",
       "      <td>49999</td>\n",
       "      <td>automobile</td>\n",
       "    </tr>\n",
       "    <tr>\n",
       "      <th>49999</th>\n",
       "      <td>50000</td>\n",
       "      <td>automobile</td>\n",
       "    </tr>\n",
       "  </tbody>\n",
       "</table>\n",
       "<p>50000 rows × 2 columns</p>\n",
       "</div>"
      ],
      "text/plain": [
       "          id       label\n",
       "0          1        frog\n",
       "1          2       truck\n",
       "2          3       truck\n",
       "3          4        deer\n",
       "4          5  automobile\n",
       "...      ...         ...\n",
       "49995  49996        bird\n",
       "49996  49997        frog\n",
       "49997  49998       truck\n",
       "49998  49999  automobile\n",
       "49999  50000  automobile\n",
       "\n",
       "[50000 rows x 2 columns]"
      ]
     },
     "execution_count": 4,
     "metadata": {},
     "output_type": "execute_result"
    }
   ],
   "source": [
    "import pandas as pd\n",
    "import numpy as np\n",
    "labels = pd.read_csv('/kaggle/input/cifar-10/trainLabels.csv')\n",
    "labels"
   ]
  },
  {
   "cell_type": "code",
   "execution_count": 5,
   "id": "9b3f4e61",
   "metadata": {
    "execution": {
     "iopub.execute_input": "2025-06-24T14:47:42.967481Z",
     "iopub.status.busy": "2025-06-24T14:47:42.967028Z",
     "iopub.status.idle": "2025-06-24T14:47:44.197135Z",
     "shell.execute_reply": "2025-06-24T14:47:44.196352Z"
    },
    "papermill": {
     "duration": 1.235985,
     "end_time": "2025-06-24T14:47:44.198585",
     "exception": false,
     "start_time": "2025-06-24T14:47:42.962600",
     "status": "completed"
    },
    "tags": []
   },
   "outputs": [],
   "source": [
    "from sklearn.preprocessing import LabelEncoder\n",
    "\n",
    "le = LabelEncoder()\n",
    "\n",
    "le.fit(labels['label'])\n",
    "\n",
    "labels['label'] = le.transform(labels['label'])"
   ]
  },
  {
   "cell_type": "code",
   "execution_count": 6,
   "id": "5e82ef95",
   "metadata": {
    "execution": {
     "iopub.execute_input": "2025-06-24T14:47:44.207330Z",
     "iopub.status.busy": "2025-06-24T14:47:44.207025Z",
     "iopub.status.idle": "2025-06-24T14:47:48.731712Z",
     "shell.execute_reply": "2025-06-24T14:47:48.730871Z"
    },
    "papermill": {
     "duration": 4.531026,
     "end_time": "2025-06-24T14:47:48.733698",
     "exception": false,
     "start_time": "2025-06-24T14:47:44.202672",
     "status": "completed"
    },
    "tags": []
   },
   "outputs": [],
   "source": [
    "import os\n",
    "from torch.utils.data import Dataset\n",
    "from PIL import Image"
   ]
  },
  {
   "cell_type": "code",
   "execution_count": 7,
   "id": "baea4900",
   "metadata": {
    "execution": {
     "iopub.execute_input": "2025-06-24T14:47:48.753590Z",
     "iopub.status.busy": "2025-06-24T14:47:48.753097Z",
     "iopub.status.idle": "2025-06-24T14:47:49.460938Z",
     "shell.execute_reply": "2025-06-24T14:47:49.460368Z"
    },
    "papermill": {
     "duration": 0.7191,
     "end_time": "2025-06-24T14:47:49.462261",
     "exception": false,
     "start_time": "2025-06-24T14:47:48.743161",
     "status": "completed"
    },
    "tags": []
   },
   "outputs": [],
   "source": [
    "d={}\n",
    "\n",
    "for i in range(len(labels)):\n",
    "    d[str(labels.loc[i,'id'])] = labels.loc[i,'label']"
   ]
  },
  {
   "cell_type": "code",
   "execution_count": 8,
   "id": "157b4e0b",
   "metadata": {
    "execution": {
     "iopub.execute_input": "2025-06-24T14:47:49.471143Z",
     "iopub.status.busy": "2025-06-24T14:47:49.470818Z",
     "iopub.status.idle": "2025-06-24T14:47:49.476034Z",
     "shell.execute_reply": "2025-06-24T14:47:49.475358Z"
    },
    "papermill": {
     "duration": 0.010899,
     "end_time": "2025-06-24T14:47:49.477276",
     "exception": false,
     "start_time": "2025-06-24T14:47:49.466377",
     "status": "completed"
    },
    "tags": []
   },
   "outputs": [],
   "source": [
    "class CustomImageDataset(Dataset):\n",
    "    def __init__(self,image_dir,labels,transform=None):\n",
    "        self.image_dir = image_dir\n",
    "        self.transform = transform\n",
    "        self.image_paths = [os.path.join(image_dir,fname) for fname in os.listdir(image_dir) if fname.endswith('.png')]\n",
    "    def __len__(self):\n",
    "        return len(self.image_paths)\n",
    "    def __getitem__(self,idx):\n",
    "        image_path = self.image_paths[idx]\n",
    "        image = Image.open(image_path).convert('RGB')\n",
    "\n",
    "        filename = os.path.basename(image_path)\n",
    "        label = d[filename[0:len(filename)-4]]\n",
    "\n",
    "        if self.transform:\n",
    "            image = self.transform(image)\n",
    "\n",
    "        return image,label\n"
   ]
  },
  {
   "cell_type": "code",
   "execution_count": 9,
   "id": "9857f4cc",
   "metadata": {
    "execution": {
     "iopub.execute_input": "2025-06-24T14:47:49.485608Z",
     "iopub.status.busy": "2025-06-24T14:47:49.485394Z",
     "iopub.status.idle": "2025-06-24T14:47:55.042364Z",
     "shell.execute_reply": "2025-06-24T14:47:55.041523Z"
    },
    "papermill": {
     "duration": 5.562643,
     "end_time": "2025-06-24T14:47:55.043743",
     "exception": false,
     "start_time": "2025-06-24T14:47:49.481100",
     "status": "completed"
    },
    "tags": []
   },
   "outputs": [],
   "source": [
    "from torch.utils.data import DataLoader\n",
    "from torchvision import transforms\n",
    "\n",
    "transform = transforms.Compose([\n",
    "    transforms.Resize(((224,224))),\n",
    "    transforms.ToTensor(),\n",
    "    transforms.Normalize(mean=[0.485, 0.456, 0.406], std=[0.229, 0.224, 0.225])\n",
    "])\n",
    "\n",
    "dataset = CustomImageDataset(image_dir='/kaggle/working/train',labels=labels,transform = transform)\n",
    "dataloader = DataLoader(dataset,batch_size=8,shuffle=True)\n",
    "\n"
   ]
  },
  {
   "cell_type": "code",
   "execution_count": 10,
   "id": "18dab209",
   "metadata": {
    "execution": {
     "iopub.execute_input": "2025-06-24T14:47:55.052639Z",
     "iopub.status.busy": "2025-06-24T14:47:55.052304Z",
     "iopub.status.idle": "2025-06-24T14:47:55.055406Z",
     "shell.execute_reply": "2025-06-24T14:47:55.054939Z"
    },
    "papermill": {
     "duration": 0.008599,
     "end_time": "2025-06-24T14:47:55.056421",
     "exception": false,
     "start_time": "2025-06-24T14:47:55.047822",
     "status": "completed"
    },
    "tags": []
   },
   "outputs": [],
   "source": [
    "import torch.nn as nn\n",
    "import torch.optim as optim"
   ]
  },
  {
   "cell_type": "code",
   "execution_count": 11,
   "id": "8b2c01f4",
   "metadata": {
    "execution": {
     "iopub.execute_input": "2025-06-24T14:47:55.065039Z",
     "iopub.status.busy": "2025-06-24T14:47:55.064824Z",
     "iopub.status.idle": "2025-06-24T14:47:55.067857Z",
     "shell.execute_reply": "2025-06-24T14:47:55.067364Z"
    },
    "papermill": {
     "duration": 0.008125,
     "end_time": "2025-06-24T14:47:55.068819",
     "exception": false,
     "start_time": "2025-06-24T14:47:55.060694",
     "status": "completed"
    },
    "tags": []
   },
   "outputs": [],
   "source": [
    "data_for_train = dataloader"
   ]
  },
  {
   "cell_type": "code",
   "execution_count": 12,
   "id": "56b579c2",
   "metadata": {
    "execution": {
     "iopub.execute_input": "2025-06-24T14:47:55.077078Z",
     "iopub.status.busy": "2025-06-24T14:47:55.076661Z",
     "iopub.status.idle": "2025-06-24T14:47:55.079470Z",
     "shell.execute_reply": "2025-06-24T14:47:55.079013Z"
    },
    "papermill": {
     "duration": 0.007918,
     "end_time": "2025-06-24T14:47:55.080437",
     "exception": false,
     "start_time": "2025-06-24T14:47:55.072519",
     "status": "completed"
    },
    "tags": []
   },
   "outputs": [],
   "source": [
    "import torch.nn.functional as F\n",
    "import torch"
   ]
  },
  {
   "cell_type": "code",
   "execution_count": 13,
   "id": "1bccd152",
   "metadata": {
    "execution": {
     "iopub.execute_input": "2025-06-24T14:47:55.088772Z",
     "iopub.status.busy": "2025-06-24T14:47:55.088603Z",
     "iopub.status.idle": "2025-06-24T14:47:55.091432Z",
     "shell.execute_reply": "2025-06-24T14:47:55.090947Z"
    },
    "papermill": {
     "duration": 0.008278,
     "end_time": "2025-06-24T14:47:55.092396",
     "exception": false,
     "start_time": "2025-06-24T14:47:55.084118",
     "status": "completed"
    },
    "tags": []
   },
   "outputs": [],
   "source": [
    "from torchvision import models, transforms"
   ]
  },
  {
   "cell_type": "code",
   "execution_count": 14,
   "id": "ca716e1e",
   "metadata": {
    "execution": {
     "iopub.execute_input": "2025-06-24T14:47:55.100432Z",
     "iopub.status.busy": "2025-06-24T14:47:55.100238Z",
     "iopub.status.idle": "2025-06-24T14:53:22.112316Z",
     "shell.execute_reply": "2025-06-24T14:53:22.111462Z"
    },
    "papermill": {
     "duration": 327.022399,
     "end_time": "2025-06-24T14:53:22.118457",
     "exception": false,
     "start_time": "2025-06-24T14:47:55.096058",
     "status": "completed"
    },
    "tags": []
   },
   "outputs": [
    {
     "name": "stderr",
     "output_type": "stream",
     "text": [
      "/usr/local/lib/python3.11/dist-packages/torchvision/models/_utils.py:208: UserWarning: The parameter 'pretrained' is deprecated since 0.13 and may be removed in the future, please use 'weights' instead.\n",
      "  warnings.warn(\n",
      "/usr/local/lib/python3.11/dist-packages/torchvision/models/_utils.py:223: UserWarning: Arguments other than a weight enum or `None` for 'weights' are deprecated since 0.13 and may be removed in the future. The current behavior is equivalent to passing `weights=ResNet18_Weights.IMAGENET1K_V1`. You can also use `weights=ResNet18_Weights.DEFAULT` to get the most up-to-date weights.\n",
      "  warnings.warn(msg)\n",
      "Downloading: \"https://download.pytorch.org/models/resnet18-f37072fd.pth\" to /root/.cache/torch/hub/checkpoints/resnet18-f37072fd.pth\n",
      "100%|██████████| 44.7M/44.7M [00:00<00:00, 171MB/s]\n"
     ]
    },
    {
     "name": "stdout",
     "output_type": "stream",
     "text": [
      "Epoch 1/2, Loss: 0.5293, Accuracy: 0.8217\n",
      "Epoch 2/2, Loss: 0.2805, Accuracy: 0.9050\n"
     ]
    }
   ],
   "source": [
    "import torch.nn as nn\n",
    "import torch.nn.functional as F\n",
    "\n",
    "\n",
    "# Модель\n",
    "class ResNetClassifier(nn.Module):\n",
    "    def __init__(self, num_classes=10):\n",
    "        super().__init__()\n",
    "        self.base = models.resnet18(pretrained=True)\n",
    "\n",
    "        # Разморозим только последние слои\n",
    "        for name, param in self.base.named_parameters():\n",
    "            if 'layer4' in name or 'fc' in name:\n",
    "                param.requires_grad = True\n",
    "            else:\n",
    "                param.requires_grad = False\n",
    "\n",
    "        self.base.fc = nn.Linear(self.base.fc.in_features, num_classes)\n",
    "\n",
    "    def forward(self, x):\n",
    "        return self.base(x)\n",
    "\n",
    "\n",
    "device = torch.device('cuda' if torch.cuda.is_available() else 'cpu')\n",
    "model = ResNetClassifier(num_classes=10).to(device)\n",
    "\n",
    "# Loss + Optimizer\n",
    "criterion = nn.CrossEntropyLoss()\n",
    "optimizer = optim.Adam(filter(lambda p: p.requires_grad, model.parameters()), lr=1e-4)\n",
    "\n",
    "# Обучение\n",
    "epochs = 2\n",
    "for epoch in range(epochs):\n",
    "    model.train()\n",
    "    total_loss = 0\n",
    "    correct = 0\n",
    "    total = 0\n",
    "\n",
    "    for images, labels in data_for_train:\n",
    "        images = images.to(device)\n",
    "        labels = labels.to(device)\n",
    "\n",
    "        optimizer.zero_grad()\n",
    "        outputs = model(images)\n",
    "        loss = criterion(outputs, labels)\n",
    "        loss.backward()\n",
    "        optimizer.step()\n",
    "\n",
    "        total_loss += loss.item()\n",
    "        preds = torch.argmax(outputs, dim=1)\n",
    "        correct += (preds == labels).sum().item()\n",
    "        total += labels.size(0)\n",
    "\n",
    "    print(f\"Epoch {epoch+1}/{epochs}, Loss: {total_loss/len(data_for_train):.4f}, Accuracy: {correct/total:.4f}\")\n"
   ]
  },
  {
   "cell_type": "code",
   "execution_count": 15,
   "id": "196faeb1",
   "metadata": {
    "execution": {
     "iopub.execute_input": "2025-06-24T14:53:22.128193Z",
     "iopub.status.busy": "2025-06-24T14:53:22.127942Z",
     "iopub.status.idle": "2025-06-24T14:53:22.219290Z",
     "shell.execute_reply": "2025-06-24T14:53:22.218687Z"
    },
    "papermill": {
     "duration": 0.097406,
     "end_time": "2025-06-24T14:53:22.220545",
     "exception": false,
     "start_time": "2025-06-24T14:53:22.123139",
     "status": "completed"
    },
    "tags": []
   },
   "outputs": [],
   "source": [
    "sample = pd.read_csv('/kaggle/input/cifar-10/sampleSubmission.csv')"
   ]
  },
  {
   "cell_type": "code",
   "execution_count": 16,
   "id": "d929d31c",
   "metadata": {
    "execution": {
     "iopub.execute_input": "2025-06-24T14:53:22.230253Z",
     "iopub.status.busy": "2025-06-24T14:53:22.230018Z",
     "iopub.status.idle": "2025-06-24T14:53:22.234713Z",
     "shell.execute_reply": "2025-06-24T14:53:22.234236Z"
    },
    "papermill": {
     "duration": 0.010378,
     "end_time": "2025-06-24T14:53:22.235613",
     "exception": false,
     "start_time": "2025-06-24T14:53:22.225235",
     "status": "completed"
    },
    "tags": []
   },
   "outputs": [],
   "source": [
    "class ComfortableData(Dataset):\n",
    "    def __init__(self,image_dir,transform=None):\n",
    "        self.image_dir = image_dir\n",
    "        self.transform = transform\n",
    "        self.labels = labels\n",
    "        self.image_paths = [os.path.join(image_dir,fname) for fname in os.listdir(image_dir) if fname.endswith('.png')]\n",
    "    def __len__(self):\n",
    "        return len(self.image_paths)\n",
    "    def __getitem__(self,idx):\n",
    "        image_path = self.image_paths[idx]\n",
    "        image = Image.open(image_path)\n",
    "\n",
    "        filename = os.path.basename(image_path)\n",
    "        \n",
    "        if self.transform:\n",
    "            image = self.transform(image)\n",
    "\n",
    "        return image, os.path.basename(image_path)[:-4]\n"
   ]
  },
  {
   "cell_type": "code",
   "execution_count": 17,
   "id": "2fada02f",
   "metadata": {
    "execution": {
     "iopub.execute_input": "2025-06-24T14:53:22.244373Z",
     "iopub.status.busy": "2025-06-24T14:53:22.244176Z",
     "iopub.status.idle": "2025-06-24T15:06:06.087582Z",
     "shell.execute_reply": "2025-06-24T15:06:06.086672Z"
    },
    "papermill": {
     "duration": 763.849647,
     "end_time": "2025-06-24T15:06:06.089285",
     "exception": false,
     "start_time": "2025-06-24T14:53:22.239638",
     "status": "completed"
    },
    "tags": []
   },
   "outputs": [],
   "source": [
    "comfort_data = ComfortableData(image_dir='/kaggle/working/test',transform = transform)\n",
    "data_for_test = DataLoader(comfort_data, batch_size = 8, shuffle=False)\n",
    "    \n",
    "model.eval()  # Важный шаг\n",
    "preds = [0]*(len(sample)+1)\n",
    "\n",
    "with torch.no_grad():\n",
    "    for image, ID in data_for_test:\n",
    "        image = image.to(device)\n",
    "        predictions = model(image)  # (batch_size, 10)\n",
    "        predicted_classes = torch.argmax(predictions, dim=1)  # (batch_size,)\n",
    "        \n",
    "        # Сохраняем предсказания по ID\n",
    "        for i in range(len(ID)):\n",
    "            preds[int(ID[i])] = le.inverse_transform([predicted_classes[i].item()])[0]\n",
    "            \n",
    "    "
   ]
  },
  {
   "cell_type": "code",
   "execution_count": 18,
   "id": "24b3bbd1",
   "metadata": {
    "execution": {
     "iopub.execute_input": "2025-06-24T15:06:06.099426Z",
     "iopub.status.busy": "2025-06-24T15:06:06.099200Z",
     "iopub.status.idle": "2025-06-24T15:06:06.330015Z",
     "shell.execute_reply": "2025-06-24T15:06:06.329384Z"
    },
    "papermill": {
     "duration": 0.236817,
     "end_time": "2025-06-24T15:06:06.331334",
     "exception": false,
     "start_time": "2025-06-24T15:06:06.094517",
     "status": "completed"
    },
    "tags": []
   },
   "outputs": [],
   "source": [
    "import pandas as pd\n",
    "\n",
    "# Преобразуем в DataFrame\n",
    "df = pd.DataFrame({\n",
    "    'id': sample['id'],\n",
    "    'label': preds[1:len(preds)]\n",
    "})\n",
    "df.to_csv(\"submission.csv\", index=False)\n"
   ]
  },
  {
   "cell_type": "code",
   "execution_count": 19,
   "id": "a7de13ab",
   "metadata": {
    "execution": {
     "iopub.execute_input": "2025-06-24T15:06:06.341094Z",
     "iopub.status.busy": "2025-06-24T15:06:06.340845Z",
     "iopub.status.idle": "2025-06-24T15:06:06.490929Z",
     "shell.execute_reply": "2025-06-24T15:06:06.490020Z"
    },
    "papermill": {
     "duration": 0.156177,
     "end_time": "2025-06-24T15:06:06.492160",
     "exception": false,
     "start_time": "2025-06-24T15:06:06.335983",
     "status": "completed"
    },
    "tags": []
   },
   "outputs": [
    {
     "name": "stdout",
     "output_type": "stream",
     "text": [
      "188742.png\n"
     ]
    }
   ],
   "source": [
    "for i in os.listdir('/kaggle/working/test'):\n",
    "    print(i)\n",
    "    break\n"
   ]
  }
 ],
 "metadata": {
  "kaggle": {
   "accelerator": "nvidiaTeslaT4",
   "dataSources": [
    {
     "databundleVersionId": 46718,
     "sourceId": 3649,
     "sourceType": "competition"
    }
   ],
   "dockerImageVersionId": 31040,
   "isGpuEnabled": true,
   "isInternetEnabled": true,
   "language": "python",
   "sourceType": "notebook"
  },
  "kernelspec": {
   "display_name": "Python 3",
   "language": "python",
   "name": "python3"
  },
  "language_info": {
   "codemirror_mode": {
    "name": "ipython",
    "version": 3
   },
   "file_extension": ".py",
   "mimetype": "text/x-python",
   "name": "python",
   "nbconvert_exporter": "python",
   "pygments_lexer": "ipython3",
   "version": "3.11.11"
  },
  "papermill": {
   "default_parameters": {},
   "duration": 1255.874419,
   "end_time": "2025-06-24T15:06:10.171739",
   "environment_variables": {},
   "exception": null,
   "input_path": "__notebook__.ipynb",
   "output_path": "__notebook__.ipynb",
   "parameters": {},
   "start_time": "2025-06-24T14:45:14.297320",
   "version": "2.6.0"
  }
 },
 "nbformat": 4,
 "nbformat_minor": 5
}
